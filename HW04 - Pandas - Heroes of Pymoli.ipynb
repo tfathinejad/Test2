{
 "cells": [
  {
   "cell_type": "code",
   "execution_count": 312,
   "metadata": {
    "collapsed": true
   },
   "outputs": [],
   "source": [
    "import os\n",
    "import pandas as pd"
   ]
  },
  {
   "cell_type": "code",
   "execution_count": 313,
   "metadata": {
    "collapsed": false
   },
   "outputs": [
    {
     "data": {
      "text/html": [
       "<div>\n",
       "<table border=\"1\" class=\"dataframe\">\n",
       "  <thead>\n",
       "    <tr style=\"text-align: right;\">\n",
       "      <th></th>\n",
       "      <th>Age</th>\n",
       "      <th>Gender</th>\n",
       "      <th>Item ID</th>\n",
       "      <th>Item Name</th>\n",
       "      <th>Price</th>\n",
       "      <th>SN</th>\n",
       "    </tr>\n",
       "  </thead>\n",
       "  <tbody>\n",
       "    <tr>\n",
       "      <th>0</th>\n",
       "      <td>38</td>\n",
       "      <td>Male</td>\n",
       "      <td>165</td>\n",
       "      <td>Bone Crushing Silver Skewer</td>\n",
       "      <td>3.37</td>\n",
       "      <td>Aelalis34</td>\n",
       "    </tr>\n",
       "    <tr>\n",
       "      <th>1</th>\n",
       "      <td>21</td>\n",
       "      <td>Male</td>\n",
       "      <td>119</td>\n",
       "      <td>Stormbringer, Dark Blade of Ending Misery</td>\n",
       "      <td>2.32</td>\n",
       "      <td>Eolo46</td>\n",
       "    </tr>\n",
       "    <tr>\n",
       "      <th>2</th>\n",
       "      <td>34</td>\n",
       "      <td>Male</td>\n",
       "      <td>174</td>\n",
       "      <td>Primitive Blade</td>\n",
       "      <td>2.46</td>\n",
       "      <td>Assastnya25</td>\n",
       "    </tr>\n",
       "    <tr>\n",
       "      <th>3</th>\n",
       "      <td>21</td>\n",
       "      <td>Male</td>\n",
       "      <td>92</td>\n",
       "      <td>Final Critic</td>\n",
       "      <td>1.36</td>\n",
       "      <td>Pheusrical25</td>\n",
       "    </tr>\n",
       "    <tr>\n",
       "      <th>4</th>\n",
       "      <td>23</td>\n",
       "      <td>Male</td>\n",
       "      <td>63</td>\n",
       "      <td>Stormfury Mace</td>\n",
       "      <td>1.27</td>\n",
       "      <td>Aela59</td>\n",
       "    </tr>\n",
       "  </tbody>\n",
       "</table>\n",
       "</div>"
      ],
      "text/plain": [
       "   Age Gender  Item ID                                  Item Name  Price  \\\n",
       "0   38   Male      165                Bone Crushing Silver Skewer   3.37   \n",
       "1   21   Male      119  Stormbringer, Dark Blade of Ending Misery   2.32   \n",
       "2   34   Male      174                            Primitive Blade   2.46   \n",
       "3   21   Male       92                               Final Critic   1.36   \n",
       "4   23   Male       63                             Stormfury Mace   1.27   \n",
       "\n",
       "             SN  \n",
       "0     Aelalis34  \n",
       "1        Eolo46  \n",
       "2   Assastnya25  \n",
       "3  Pheusrical25  \n",
       "4        Aela59  "
      ]
     },
     "execution_count": 313,
     "metadata": {},
     "output_type": "execute_result"
    }
   ],
   "source": [
    "purchase_data = pd.read_json(\"purchase_data.json\")\n",
    "purchase_data.head()"
   ]
  },
  {
   "cell_type": "code",
   "execution_count": 314,
   "metadata": {
    "collapsed": false
   },
   "outputs": [
    {
     "data": {
      "text/plain": [
       "array(['Aelalis34', 'Eolo46', 'Assastnya25', 'Pheusrical25', 'Aela59',\n",
       "       'Tanimnya91', 'Undjaskla97', 'Iathenudil29', 'Sondenasta63',\n",
       "       'Hilaerin92', 'Chamosia29', 'Sally64', 'Iskossa88',\n",
       "       'Seorithstilis90', 'Sundast29', 'Haellysu29', 'Sundista85',\n",
       "       'Aenarap34', 'Iskista88', 'Assossa43', 'Irith83', 'Iaralrgue74',\n",
       "       'Deural48', 'Chanosia65', 'Qarwen67', 'Idai61', 'Aerithllora36',\n",
       "       'Ilariarin45', 'Phaedai25', 'Eulaeria40', 'Iarilis73', 'Malunil62',\n",
       "       'Iskimnya76', 'Yararmol43', 'Aisur51', 'Undare39', 'Sondossa91',\n",
       "       'Chamjasknya65', 'Lassilsa63', 'Tyisur83', 'Aeral43',\n",
       "       'Lassadarsda57', 'Alaephos75', 'Frichjask31', 'Eusur90',\n",
       "       'Palatyon26', 'Saellyra72', 'Ililsa62', 'Eosur70', 'Saistyphos30',\n",
       "       'Reula64', 'Chanirrala39', 'Chadanto83', 'Minduli80', 'Heunadil74',\n",
       "       'Marilsasya33', 'Alallo58', 'Tyaeristi78', 'Ila44', 'Iskossaya95',\n",
       "       'Rinallorap73', 'Aeri84', 'Ryanara76', 'Syally44', 'Shaidanu32',\n",
       "       'Syasriria69', 'Lisiriya82', 'Iskosia51', 'Eosurdru76',\n",
       "       'Lassimla92', 'Tauldilsa43', 'Erudrion71', 'Chanjaskan37',\n",
       "       'Sondastan54', 'Strithenu87', 'Chanastsda67', 'Baelollodeu94',\n",
       "       'Undirrala66', 'Chanosseya79', 'Yaristi64', 'Airi27',\n",
       "       'Frichaststa61', 'Raysistast71', 'Ithergue48', 'Chanastst38',\n",
       "       'Sundosiasta28', 'Undotesta33', 'Tyiaduenuru55', 'Iskjaskst81',\n",
       "       'Iskjaskan81', 'Frichim27', 'Hailaphos89', 'Jiskjask80',\n",
       "       'Yasurra52', 'Assassasta79', 'Lamyon68', 'Alo67', 'Farenon57',\n",
       "       'Assistasda90', 'Frichaya88', 'Marassanya92', 'Iskista96',\n",
       "       'Mindirra92', 'Chadossa56', 'Eoda93', 'Lassast89', 'Philodil43',\n",
       "       'Tyirithnu40', 'Haerith37', 'Jeyciman68', 'Chamirraya83', 'Yasur85',\n",
       "       'Koikirra25', 'Quarunarn52', 'Yasur35', 'Isurriarap71',\n",
       "       'Lassjask63', 'Iliel92', 'Arithllorin55', 'Silideu44',\n",
       "       'Heosurnuru52', 'Raesty92', 'Eyircil84', 'Isursti83', 'Eurinu48',\n",
       "       'Saedaiphos46', 'Jiskossa51', 'Sundossast30', 'Ialallo29',\n",
       "       'Chanosia60', 'Ilosia37', 'Tyeulisu40', 'Yaliru88', 'Jiskassa76',\n",
       "       'Idairin80', 'Dyally87', 'Quarusrion32', 'Adairialis76',\n",
       "       'Lirtilsan89', 'Reolacal36', 'Lisirrast82', 'Ilrian97', 'Tyadaru49',\n",
       "       'Sweecossa42', 'Streural92', 'Queusurra38', 'Lassilsa41',\n",
       "       'Aisurphos78', 'Marim28', 'Taeduenu92', 'Eodailis27',\n",
       "       'Lassjaskan73', 'Yadanun74', 'Iskossasda43', 'Aesty51', 'Tyida79',\n",
       "       'Frichossast75', 'Eratiel90', 'Chamirra53', 'Alarap40',\n",
       "       'Ralaeriadeu65', 'Reulae52', 'Stryanastip77', 'Iskirra45',\n",
       "       'Chadadarya31', 'Heuli25', 'Raillydeu47', 'Chamadar61', 'Assassa38',\n",
       "       'Chanosiaya39', 'Raeri71', 'Hiasri33', 'Lisossa25', 'Sundassa93',\n",
       "       'Rina82', 'Siarinum43', 'Eurallo89', 'Hirirap39', 'Aidaira26',\n",
       "       'Zontibe81', 'Farusrian86', 'Undadarla37', 'Lirtossa78',\n",
       "       'Chanirra56', 'Lisasi93', 'Phadai31', 'Tyithesura58', 'Marilsa48',\n",
       "       'Siarithria38', 'Marirrasta50', 'Airidil41', 'Sausosia74',\n",
       "       'Sialaera37', 'Frichistasta59', 'Phadue96', 'Chanirra79',\n",
       "       'Yarmol79', 'Astydil38', 'Jiskirran77', 'Marjasksda39',\n",
       "       'Eoralphos86', 'Lisovynya38', 'Frichim77', 'Aellyrialis39',\n",
       "       'Chamilsan75', 'Saida58', 'Eusri70', 'Aeduera68', 'Qilatie51',\n",
       "       'Chamistast30', 'Qiluard68', 'Tyaelo67', 'Rithe77', 'Tyeosristi57',\n",
       "       'Eoral49', 'Aelollo59', 'Lisossa63', 'Wailin72', 'Yarithllodeu72',\n",
       "       'Lisistaya47', 'Chamadar27', 'Ethruard50', 'Yathecal72', 'Ilimya66',\n",
       "       'Ialistidru50', 'Tyaerith73', 'Lisistasya93', 'Chamadar79',\n",
       "       'Iallyphos37', 'Ilogha82', 'Ilaesudil92', 'Meosridil82',\n",
       "       'Undirrasta89', 'Lirtistanya48', 'Iadueria43', 'Lisjaskan36',\n",
       "       'Saedue76', 'Undjasksya56', 'Irithrap69', 'Quanenrian83',\n",
       "       'Phenastya51', 'Marassaya49', 'Yasrisu92', 'Qilanrion65',\n",
       "       'Chanassa48', 'Iskassa50', 'Frichjaskan98', 'Sirira97',\n",
       "       'Eoduenurin62', 'Yarirarn35', 'Aillycal84', 'Chanadar44',\n",
       "       'Lisimsda29', 'Tyidue95', 'Yaralnura48', 'Irillo49', 'Isri59',\n",
       "       'Aiduecal76', 'Frichosiala98', 'Deelilsasya30', 'Mindilsa60',\n",
       "       'Iladarla40', 'Chrathybust28', 'Yarithsurgue62', 'Mindossa76',\n",
       "       'Assilsan72', 'Assassa43', 'Yarolwen77', 'Faralcil63', 'Sondilsa40',\n",
       "       'Lisossan98', 'Chadossa89', 'Eosrirgue62', 'Filrion44',\n",
       "       'Lassassasda30', 'Aidain51', 'Aduephos78', 'Hainaria90',\n",
       "       'Raerithsti62', 'Reuthelis39', 'Sundaststa26', 'Aelin32',\n",
       "       'Sundadarla27', 'Aeliru63', 'Lisista27', 'Narirra38', 'Eustyria89',\n",
       "       'Phistym51', 'Salilis27', 'Layjask75', 'Lirtyrdesta65',\n",
       "       'Syalollorap93', 'Assylla81', 'Eurisuru25', 'Mindjasksya61',\n",
       "       'Eusri44', 'Rarith48', 'Yalaeria91', 'Iskadarya95', 'Lisossanya98',\n",
       "       'Iarithdil76', 'Aeliriarin93', 'Raedalis34', 'Sondossa55',\n",
       "       'Lisico81', 'Ialo60', 'Syathe73', 'Lisassa26', 'Rasrirgue43',\n",
       "       'Aerillorin70', 'Quelatarn54', 'Airithrin43', 'Lisjasksda68',\n",
       "       'Aerithnuphos61', 'Lirtosia72', 'Aeliriam77', 'Lisirra55',\n",
       "       'Aeral97', 'Lisosiast26', 'Lirtistasta79', 'Lisadar44', 'Isurria36',\n",
       "       'Sundastnya66', 'Raesursurap33', 'Sondassasya91', 'Ermol76',\n",
       "       'Yadaisuir65', 'Zhisrisu83', 'Sondassa68', 'Yarithphos28',\n",
       "       'Ingatcil75', 'Eothe56', 'Assithasta65', 'Palurrian69',\n",
       "       'Iskistasda86', 'Tyaili86', 'Liawista80', 'Seosri62', 'Silinu63',\n",
       "       'Aela49', 'Assosiasta83', 'Saelollop56', 'Saena74',\n",
       "       'Tyaelistidru84', 'Chamirrasya33', 'Smecherdi88', 'Leulaesti78',\n",
       "       'Tyaenasti87', 'Sondassa48', 'Saistydru69', 'Saisrilis27',\n",
       "       'Indonmol95', 'Fironon91', 'Lirtossanya27', 'Sondadar26',\n",
       "       'Phalinun47', 'Hiarideu73', 'Qilunan34', 'Pharithdil38',\n",
       "       'Tyeuladeu30', 'Ina92', 'Aithelis62', 'Indcil77', 'Hallysucal81',\n",
       "       'Tyeuduephos81', 'Heosrisuir72', 'Lirtassa47', 'Ithesuphos68',\n",
       "       'Eula35', 'Aina42', 'Ethrusuard41', 'Chanirrasta87', 'Ilirrasda54',\n",
       "       'Liri91', 'Undadar97', 'Lisosianya62', 'Mindimnya67',\n",
       "       'Undistasta86', 'Alaesu91', 'Jiskosiala43', 'Heuralsti66',\n",
       "       'Umuard36', 'Asur53', 'Thryallym62', 'Frichassala85', 'Ilosu82',\n",
       "       'Pheodai94', 'Undirrasta74', 'Hiasur92', 'Tillyrin30', 'Riralsti91',\n",
       "       'Iasur80', 'Eryon48', 'Whaestysu86', 'Aiduesu83', 'Iaralsuir44',\n",
       "       'Chanjask65', 'Frichistast39', 'Phairinum94', 'Ethralan59',\n",
       "       'Raelly43', 'Lisassasta50', 'Chanastnya43', 'Sondimla25',\n",
       "       'Chamilsala65', 'Idaria87', 'Lamil79', 'Qaronon57', 'Chadjask77',\n",
       "       'Ethralista69', 'Phaeduesurgue38', 'Rathellorin54', 'Filon68',\n",
       "       'Ingonon91', 'Assesi91', 'Aellyria80', 'Aethedru70', 'Tyalaesu89',\n",
       "       'Tyisriphos58', 'Seudaillorap38', 'Malista67', 'Ristydru66',\n",
       "       'Yasriphos60', 'Phainasu47', 'Eural50', 'Mindassast27',\n",
       "       'Iskossan49', 'Qarrian82', 'Eulidru49', 'Inguard95', 'Hiral75',\n",
       "       'Undast38', 'Airal46', 'Saerallora71', 'Frichossast86', 'Undirra73',\n",
       "       'Phaestycal84', 'Eosursurap97', 'Seolollo93', 'Ililsan66',\n",
       "       'Aesur96', 'Iskosian40', 'Aillyriadru65', 'Lisassa49', 'Ialidru40',\n",
       "       'Sondim43', 'Aethe80', 'Eudasu82', 'Lisirraya76', 'Haedasu65',\n",
       "       'Iral74', 'Lisjaskya84', 'Saelaephos52', 'Chamim85', 'Lirtista72',\n",
       "       'Seudanu38', 'Siathecal92', 'Eullydru35', 'Isrirgue68', 'Raithe71',\n",
       "       'Yathecal82', 'Saralp86', 'Tyeuduen32', 'Aina43', 'Undiwinya88',\n",
       "       'Silaera56', 'Billysu76', 'Aidaira48', 'Euna48', 'Lamil70',\n",
       "       'Chamadarnya73', 'Ilast79', 'Sondilsa35', 'Ralonurin90',\n",
       "       'Marundi65', 'Phaedan76', 'Ilassa51', 'Lirtossa84', 'Chamastya76',\n",
       "       'Heolo60', 'Thourdirra92', 'Frichadar89', 'Jiskilsa35',\n",
       "       'Philistirap41', 'Tyidainu31', 'Tridaira71', 'Mindadaran26',\n",
       "       'Lisassa39', 'Alaesu77', 'Mindossasya74', 'Syadaillo88',\n",
       "       'Lassilsala30', 'Eusri26', 'Lirtossan50', 'Sondim73', 'Assosia38',\n",
       "       'Tyeosri53', 'Raesurdil91', 'Anallorgue57', 'Rithe53', 'Quinarap53',\n",
       "       'Haerithp41', 'Seuthelis34', 'Styaduen40', 'Ennoncil86',\n",
       "       'Ilaststa70', 'Tyarithn67', 'Aerithnucal56', 'Sundjask71', 'Yalo71',\n",
       "       'Mindetosya30', 'Chanjaskan89', 'Lirtast83', 'Lassassast73',\n",
       "       'Strairisti57', 'Filrion59', 'Aellysup38', 'Hala31', 'Chanosiast43',\n",
       "       'Sundim98', 'Crausirra42', 'Frichast72', 'Sida61', 'Iri67',\n",
       "       'Ririp86', 'Jiskimsda56', 'Assistast50', 'Euliria52',\n",
       "       'Aerithriaphos45', 'Phyali88', 'Aeral85', 'Tyaelorgue39',\n",
       "       'Tyananurgue44', 'Isketo41', 'Sundast87', 'Yadacal26', 'Ilophos58',\n",
       "       'Marilsanya48', 'Phially37', 'Iduedru67', 'Saidairiaphos61',\n",
       "       'Chamimla73', 'Eurith26', 'Iskichinya81', 'Hiadanurin36',\n",
       "       'Tyaelly53', 'Shidai42', 'Bartassaya73', 'Mindosiasya28',\n",
       "       'Indirrian56', 'Sondim68', 'Cosadar58', 'Leyirra83', 'Inguron55',\n",
       "       'Ralasti48', 'Lamon28', 'Isri49', 'Eollym91', 'Yalostiphos68',\n",
       "       'Ailaesuir66', 'Siasri67', 'Ryastycal90', 'Raeduerin33',\n",
       "       'Assassasda84', 'Nitherian58', 'Chamucosda93', 'Frichilsasya78',\n",
       "       'Aenasu69', 'Lassista97', 'Sidap51', 'Chamadarsda63', 'Quelaton80',\n",
       "       'Alim85'], dtype=object)"
      ]
     },
     "execution_count": 314,
     "metadata": {},
     "output_type": "execute_result"
    }
   ],
   "source": [
    "#The purpose for this line is to understand the data better\n",
    "players_names=purchase_data[\"SN\"].unique()\n",
    "players_names"
   ]
  },
  {
   "cell_type": "code",
   "execution_count": 315,
   "metadata": {
    "collapsed": false
   },
   "outputs": [
    {
     "data": {
      "text/plain": [
       "0    573\n",
       "dtype: int64"
      ]
     },
     "execution_count": 315,
     "metadata": {},
     "output_type": "execute_result"
    }
   ],
   "source": [
    "# Player Count:\n",
    "# Total Number of Players\n",
    "\n",
    "total_players = pd.DataFrame(players_names)\n",
    "total_players.count()"
   ]
  },
  {
   "cell_type": "code",
   "execution_count": 316,
   "metadata": {
    "collapsed": false
   },
   "outputs": [
    {
     "data": {
      "text/html": [
       "<div>\n",
       "<table border=\"1\" class=\"dataframe\">\n",
       "  <thead>\n",
       "    <tr style=\"text-align: right;\">\n",
       "      <th></th>\n",
       "      <th>Total Players</th>\n",
       "    </tr>\n",
       "  </thead>\n",
       "  <tbody>\n",
       "    <tr>\n",
       "      <th>0</th>\n",
       "      <td>573</td>\n",
       "    </tr>\n",
       "  </tbody>\n",
       "</table>\n",
       "</div>"
      ],
      "text/plain": [
       "   Total Players\n",
       "0            573"
      ]
     },
     "execution_count": 316,
     "metadata": {},
     "output_type": "execute_result"
    }
   ],
   "source": [
    "total_players_df = pd.DataFrame({\"Total Players\": total_players.count()})\n",
    "total_players_df"
   ]
  },
  {
   "cell_type": "code",
   "execution_count": 317,
   "metadata": {
    "collapsed": true
   },
   "outputs": [],
   "source": [
    "# Purchasing Analysis (Total):\n",
    "# Number of Unique Items\n",
    "# Average Purchase Price\n",
    "# Total Number of Purchases\n",
    "# Total Revenue"
   ]
  },
  {
   "cell_type": "code",
   "execution_count": 318,
   "metadata": {
    "collapsed": false
   },
   "outputs": [
    {
     "data": {
      "text/plain": [
       "Age          780\n",
       "Gender       780\n",
       "Item ID      780\n",
       "Item Name    780\n",
       "Price        780\n",
       "SN           780\n",
       "dtype: int64"
      ]
     },
     "execution_count": 318,
     "metadata": {},
     "output_type": "execute_result"
    }
   ],
   "source": [
    "#The purpose for this line is to understand the data better\n",
    "purchase_data.count()"
   ]
  },
  {
   "cell_type": "code",
   "execution_count": 319,
   "metadata": {
    "collapsed": false
   },
   "outputs": [
    {
     "data": {
      "text/html": [
       "<div>\n",
       "<table border=\"1\" class=\"dataframe\">\n",
       "  <thead>\n",
       "    <tr style=\"text-align: right;\">\n",
       "      <th></th>\n",
       "      <th>Age</th>\n",
       "      <th>Item ID</th>\n",
       "      <th>Price</th>\n",
       "    </tr>\n",
       "  </thead>\n",
       "  <tbody>\n",
       "    <tr>\n",
       "      <th>count</th>\n",
       "      <td>780.000000</td>\n",
       "      <td>780.000000</td>\n",
       "      <td>780.000000</td>\n",
       "    </tr>\n",
       "    <tr>\n",
       "      <th>mean</th>\n",
       "      <td>22.729487</td>\n",
       "      <td>91.293590</td>\n",
       "      <td>2.931192</td>\n",
       "    </tr>\n",
       "    <tr>\n",
       "      <th>std</th>\n",
       "      <td>6.930604</td>\n",
       "      <td>52.707537</td>\n",
       "      <td>1.115780</td>\n",
       "    </tr>\n",
       "    <tr>\n",
       "      <th>min</th>\n",
       "      <td>7.000000</td>\n",
       "      <td>0.000000</td>\n",
       "      <td>1.030000</td>\n",
       "    </tr>\n",
       "    <tr>\n",
       "      <th>25%</th>\n",
       "      <td>19.000000</td>\n",
       "      <td>44.000000</td>\n",
       "      <td>1.960000</td>\n",
       "    </tr>\n",
       "    <tr>\n",
       "      <th>50%</th>\n",
       "      <td>22.000000</td>\n",
       "      <td>91.000000</td>\n",
       "      <td>2.880000</td>\n",
       "    </tr>\n",
       "    <tr>\n",
       "      <th>75%</th>\n",
       "      <td>25.000000</td>\n",
       "      <td>135.000000</td>\n",
       "      <td>3.910000</td>\n",
       "    </tr>\n",
       "    <tr>\n",
       "      <th>max</th>\n",
       "      <td>45.000000</td>\n",
       "      <td>183.000000</td>\n",
       "      <td>4.950000</td>\n",
       "    </tr>\n",
       "  </tbody>\n",
       "</table>\n",
       "</div>"
      ],
      "text/plain": [
       "              Age     Item ID       Price\n",
       "count  780.000000  780.000000  780.000000\n",
       "mean    22.729487   91.293590    2.931192\n",
       "std      6.930604   52.707537    1.115780\n",
       "min      7.000000    0.000000    1.030000\n",
       "25%     19.000000   44.000000    1.960000\n",
       "50%     22.000000   91.000000    2.880000\n",
       "75%     25.000000  135.000000    3.910000\n",
       "max     45.000000  183.000000    4.950000"
      ]
     },
     "execution_count": 319,
     "metadata": {},
     "output_type": "execute_result"
    }
   ],
   "source": [
    "#The purpose for this line is to understand the data better\n",
    "purchase_data.describe()"
   ]
  },
  {
   "cell_type": "code",
   "execution_count": 320,
   "metadata": {
    "collapsed": false
   },
   "outputs": [
    {
     "data": {
      "text/plain": [
       "0    179\n",
       "dtype: int64"
      ]
     },
     "execution_count": 320,
     "metadata": {},
     "output_type": "execute_result"
    }
   ],
   "source": [
    "# Number of Unique Items:\n",
    "items=pd.DataFrame(purchase_data[\"Item Name\"].unique()).count()\n",
    "items\n"
   ]
  },
  {
   "cell_type": "code",
   "execution_count": 321,
   "metadata": {
    "collapsed": false
   },
   "outputs": [
    {
     "data": {
      "text/plain": [
       "'$ 2.93 '"
      ]
     },
     "execution_count": 321,
     "metadata": {},
     "output_type": "execute_result"
    }
   ],
   "source": [
    "# Average Purchase Price\n",
    "avg_price=purchase_data[\"Price\"].mean()\n",
    "\n",
    "# print (\"$\" + str(avg_price.mean()))\n",
    "avg_price='$ {:,.2f} '.format(avg_price)\n",
    "avg_price"
   ]
  },
  {
   "cell_type": "code",
   "execution_count": 322,
   "metadata": {
    "collapsed": false
   },
   "outputs": [
    {
     "data": {
      "text/plain": [
       "780"
      ]
     },
     "execution_count": 322,
     "metadata": {},
     "output_type": "execute_result"
    }
   ],
   "source": [
    "# Total Number of Purchases\n",
    "\n",
    "total_purchase=purchase_data[\"Item Name\"].count()\n",
    "total_purchase"
   ]
  },
  {
   "cell_type": "code",
   "execution_count": 323,
   "metadata": {
    "collapsed": false
   },
   "outputs": [
    {
     "data": {
      "text/plain": [
       "'$2,286.33'"
      ]
     },
     "execution_count": 323,
     "metadata": {},
     "output_type": "execute_result"
    }
   ],
   "source": [
    "# Total Revenue\n",
    "\n",
    "\n",
    "# print(\"$\"+str(total_rev.sum()))\n",
    "total_rev = purchase_data[\"Price\"].sum()\n",
    "total_rev ='${:,.2f}'.format(total_rev)\n",
    "total_rev\n"
   ]
  },
  {
   "cell_type": "code",
   "execution_count": 324,
   "metadata": {
    "collapsed": false
   },
   "outputs": [
    {
     "data": {
      "text/plain": [
       "{'Average Price': '$ 2.93 ',\n",
       " 'Number of Purchases': 780,\n",
       " 'Number of Unique Items': 0    179\n",
       " dtype: int64,\n",
       " 'Total Revenue': '$2,286.33'}"
      ]
     },
     "execution_count": 324,
     "metadata": {},
     "output_type": "execute_result"
    }
   ],
   "source": [
    "#Now I can make the Total Purchasing Analysis\n",
    "\n",
    "purchase_analysis= {\"Number of Unique Items\": items,\n",
    "                    \"Average Price\": avg_price, \n",
    "                    \"Number of Purchases\": total_purchase,\n",
    "                    \"Total Revenue\":total_rev\n",
    "                   }\n",
    "purchase_analysis"
   ]
  },
  {
   "cell_type": "code",
   "execution_count": 325,
   "metadata": {
    "collapsed": false
   },
   "outputs": [
    {
     "data": {
      "text/html": [
       "<div>\n",
       "<table border=\"1\" class=\"dataframe\">\n",
       "  <thead>\n",
       "    <tr style=\"text-align: right;\">\n",
       "      <th></th>\n",
       "      <th>Average Price</th>\n",
       "      <th>Number of Purchases</th>\n",
       "      <th>Number of Unique Items</th>\n",
       "      <th>Total Revenue</th>\n",
       "    </tr>\n",
       "  </thead>\n",
       "  <tbody>\n",
       "    <tr>\n",
       "      <th>0</th>\n",
       "      <td>$ 2.93</td>\n",
       "      <td>780</td>\n",
       "      <td>179</td>\n",
       "      <td>$2,286.33</td>\n",
       "    </tr>\n",
       "  </tbody>\n",
       "</table>\n",
       "</div>"
      ],
      "text/plain": [
       "  Average Price  Number of Purchases  Number of Unique Items Total Revenue\n",
       "0       $ 2.93                   780                     179     $2,286.33"
      ]
     },
     "execution_count": 325,
     "metadata": {},
     "output_type": "execute_result"
    }
   ],
   "source": [
    "#Total Purchasing Analysis\n",
    "\n",
    "purchase_analysis_df = pd.DataFrame(purchase_analysis)\n",
    "purchase_analysis_df"
   ]
  },
  {
   "cell_type": "markdown",
   "metadata": {},
   "source": [
    "\"\"\"\n",
    "Gender Demographics\n",
    "\n",
    "Percentage and Count of Male Players\n",
    "Percentage and Count of Female Players\n",
    "Percentage and Count of Other / Non-Disclosed\n",
    "\"\"\""
   ]
  },
  {
   "cell_type": "code",
   "execution_count": 326,
   "metadata": {
    "collapsed": false
   },
   "outputs": [
    {
     "data": {
      "text/plain": [
       "Male                     633\n",
       "Female                   136\n",
       "Other / Non-Disclosed     11\n",
       "Name: Gender, dtype: int64"
      ]
     },
     "execution_count": 326,
     "metadata": {},
     "output_type": "execute_result"
    }
   ],
   "source": [
    "gender=purchase_data[\"Gender\"].value_counts()\n",
    "gender"
   ]
  },
  {
   "cell_type": "code",
   "execution_count": 327,
   "metadata": {
    "collapsed": false
   },
   "outputs": [
    {
     "data": {
      "text/html": [
       "<div>\n",
       "<table border=\"1\" class=\"dataframe\">\n",
       "  <thead>\n",
       "    <tr style=\"text-align: right;\">\n",
       "      <th></th>\n",
       "      <th>Age</th>\n",
       "      <th>Gender</th>\n",
       "      <th>Item ID</th>\n",
       "      <th>Item Name</th>\n",
       "      <th>Price</th>\n",
       "      <th>SN</th>\n",
       "    </tr>\n",
       "  </thead>\n",
       "  <tbody>\n",
       "    <tr>\n",
       "      <th>0</th>\n",
       "      <td>38</td>\n",
       "      <td>Male</td>\n",
       "      <td>165</td>\n",
       "      <td>Bone Crushing Silver Skewer</td>\n",
       "      <td>3.37</td>\n",
       "      <td>Aelalis34</td>\n",
       "    </tr>\n",
       "    <tr>\n",
       "      <th>1</th>\n",
       "      <td>21</td>\n",
       "      <td>Male</td>\n",
       "      <td>119</td>\n",
       "      <td>Stormbringer, Dark Blade of Ending Misery</td>\n",
       "      <td>2.32</td>\n",
       "      <td>Eolo46</td>\n",
       "    </tr>\n",
       "    <tr>\n",
       "      <th>2</th>\n",
       "      <td>34</td>\n",
       "      <td>Male</td>\n",
       "      <td>174</td>\n",
       "      <td>Primitive Blade</td>\n",
       "      <td>2.46</td>\n",
       "      <td>Assastnya25</td>\n",
       "    </tr>\n",
       "    <tr>\n",
       "      <th>3</th>\n",
       "      <td>21</td>\n",
       "      <td>Male</td>\n",
       "      <td>92</td>\n",
       "      <td>Final Critic</td>\n",
       "      <td>1.36</td>\n",
       "      <td>Pheusrical25</td>\n",
       "    </tr>\n",
       "    <tr>\n",
       "      <th>4</th>\n",
       "      <td>23</td>\n",
       "      <td>Male</td>\n",
       "      <td>63</td>\n",
       "      <td>Stormfury Mace</td>\n",
       "      <td>1.27</td>\n",
       "      <td>Aela59</td>\n",
       "    </tr>\n",
       "  </tbody>\n",
       "</table>\n",
       "</div>"
      ],
      "text/plain": [
       "   Age Gender  Item ID                                  Item Name  Price  \\\n",
       "0   38   Male      165                Bone Crushing Silver Skewer   3.37   \n",
       "1   21   Male      119  Stormbringer, Dark Blade of Ending Misery   2.32   \n",
       "2   34   Male      174                            Primitive Blade   2.46   \n",
       "3   21   Male       92                               Final Critic   1.36   \n",
       "4   23   Male       63                             Stormfury Mace   1.27   \n",
       "\n",
       "             SN  \n",
       "0     Aelalis34  \n",
       "1        Eolo46  \n",
       "2   Assastnya25  \n",
       "3  Pheusrical25  \n",
       "4        Aela59  "
      ]
     },
     "execution_count": 327,
     "metadata": {},
     "output_type": "execute_result"
    }
   ],
   "source": [
    "purchase_no_dup = purchase_data.drop_duplicates(\"SN\")\n",
    "purchase_no_dup.head()"
   ]
  },
  {
   "cell_type": "code",
   "execution_count": 328,
   "metadata": {
    "collapsed": false
   },
   "outputs": [
    {
     "data": {
      "text/html": [
       "<div>\n",
       "<table border=\"1\" class=\"dataframe\">\n",
       "  <thead>\n",
       "    <tr style=\"text-align: right;\">\n",
       "      <th></th>\n",
       "      <th>Gender</th>\n",
       "    </tr>\n",
       "  </thead>\n",
       "  <tbody>\n",
       "    <tr>\n",
       "      <th>Male</th>\n",
       "      <td>465</td>\n",
       "    </tr>\n",
       "    <tr>\n",
       "      <th>Female</th>\n",
       "      <td>100</td>\n",
       "    </tr>\n",
       "    <tr>\n",
       "      <th>Other / Non-Disclosed</th>\n",
       "      <td>8</td>\n",
       "    </tr>\n",
       "  </tbody>\n",
       "</table>\n",
       "</div>"
      ],
      "text/plain": [
       "                       Gender\n",
       "Male                      465\n",
       "Female                    100\n",
       "Other / Non-Disclosed       8"
      ]
     },
     "execution_count": 328,
     "metadata": {},
     "output_type": "execute_result"
    }
   ],
   "source": [
    "gender_count=pd.DataFrame(purchase_no_dup[\"Gender\"].value_counts())\n",
    "gender_count"
   ]
  },
  {
   "cell_type": "code",
   "execution_count": 329,
   "metadata": {
    "collapsed": false
   },
   "outputs": [
    {
     "data": {
      "text/plain": [
       "Male                     81.151832\n",
       "Female                   17.452007\n",
       "Other / Non-Disclosed     1.396161\n",
       "Name: Percent, dtype: float64"
      ]
     },
     "execution_count": 329,
     "metadata": {},
     "output_type": "execute_result"
    }
   ],
   "source": [
    "# Percentage and Count of Male Players\n",
    "# Percentage and Count of Female Players\n",
    "# Percentage and Count of Other / Non-Disclosed\n",
    "\n",
    "\n",
    "gender_count[\"Percent\"]=(gender_count[\"Gender\"]/gender_count[\"Gender\"].sum())*100\n",
    "gender_count[\"Percent\"]"
   ]
  },
  {
   "cell_type": "code",
   "execution_count": 330,
   "metadata": {
    "collapsed": false
   },
   "outputs": [
    {
     "data": {
      "text/html": [
       "<div>\n",
       "<table border=\"1\" class=\"dataframe\">\n",
       "  <thead>\n",
       "    <tr style=\"text-align: right;\">\n",
       "      <th></th>\n",
       "      <th>Gender Count</th>\n",
       "      <th>Percent</th>\n",
       "    </tr>\n",
       "  </thead>\n",
       "  <tbody>\n",
       "    <tr>\n",
       "      <th>Male</th>\n",
       "      <td>465</td>\n",
       "      <td>81.151832</td>\n",
       "    </tr>\n",
       "    <tr>\n",
       "      <th>Female</th>\n",
       "      <td>100</td>\n",
       "      <td>17.452007</td>\n",
       "    </tr>\n",
       "    <tr>\n",
       "      <th>Other / Non-Disclosed</th>\n",
       "      <td>8</td>\n",
       "      <td>1.396161</td>\n",
       "    </tr>\n",
       "  </tbody>\n",
       "</table>\n",
       "</div>"
      ],
      "text/plain": [
       "                       Gender Count    Percent\n",
       "Male                            465  81.151832\n",
       "Female                          100  17.452007\n",
       "Other / Non-Disclosed             8   1.396161"
      ]
     },
     "execution_count": 330,
     "metadata": {},
     "output_type": "execute_result"
    }
   ],
   "source": [
    "#Gender Demographics\n",
    "gender_count = pd.DataFrame({\"Percent\":gender_count[\"Percent\"], \"Gender Count\":gender_count[\"Gender\"]})\n",
    "gender_count"
   ]
  },
  {
   "cell_type": "code",
   "execution_count": 331,
   "metadata": {
    "collapsed": true
   },
   "outputs": [],
   "source": [
    "# Purchasing Analysis (Gender)\n",
    "\n",
    "# The below each broken by gender\n",
    "# Purchase Count\n",
    "# Average Purchase Price\n",
    "# Total Purchase Value\n",
    "# Normalized Totals"
   ]
  },
  {
   "cell_type": "code",
   "execution_count": 332,
   "metadata": {
    "collapsed": false
   },
   "outputs": [
    {
     "data": {
      "text/html": [
       "<div>\n",
       "<table border=\"1\" class=\"dataframe\">\n",
       "  <thead>\n",
       "    <tr style=\"text-align: right;\">\n",
       "      <th></th>\n",
       "      <th>Age</th>\n",
       "      <th>Gender</th>\n",
       "      <th>Item ID</th>\n",
       "      <th>Item Name</th>\n",
       "      <th>Price</th>\n",
       "      <th>SN</th>\n",
       "    </tr>\n",
       "  </thead>\n",
       "  <tbody>\n",
       "    <tr>\n",
       "      <th>0</th>\n",
       "      <td>38</td>\n",
       "      <td>Male</td>\n",
       "      <td>165</td>\n",
       "      <td>Bone Crushing Silver Skewer</td>\n",
       "      <td>3.37</td>\n",
       "      <td>Aelalis34</td>\n",
       "    </tr>\n",
       "    <tr>\n",
       "      <th>1</th>\n",
       "      <td>21</td>\n",
       "      <td>Male</td>\n",
       "      <td>119</td>\n",
       "      <td>Stormbringer, Dark Blade of Ending Misery</td>\n",
       "      <td>2.32</td>\n",
       "      <td>Eolo46</td>\n",
       "    </tr>\n",
       "    <tr>\n",
       "      <th>7</th>\n",
       "      <td>29</td>\n",
       "      <td>Female</td>\n",
       "      <td>169</td>\n",
       "      <td>Interrogator, Blood Blade of the Queen</td>\n",
       "      <td>3.32</td>\n",
       "      <td>Iathenudil29</td>\n",
       "    </tr>\n",
       "    <tr>\n",
       "      <th>16</th>\n",
       "      <td>22</td>\n",
       "      <td>Female</td>\n",
       "      <td>123</td>\n",
       "      <td>Twilight's Carver</td>\n",
       "      <td>1.14</td>\n",
       "      <td>Sundista85</td>\n",
       "    </tr>\n",
       "    <tr>\n",
       "      <th>177</th>\n",
       "      <td>34</td>\n",
       "      <td>Other / Non-Disclosed</td>\n",
       "      <td>155</td>\n",
       "      <td>War-Forged Gold Deflector</td>\n",
       "      <td>3.73</td>\n",
       "      <td>Assassa38</td>\n",
       "    </tr>\n",
       "    <tr>\n",
       "      <th>209</th>\n",
       "      <td>33</td>\n",
       "      <td>Other / Non-Disclosed</td>\n",
       "      <td>157</td>\n",
       "      <td>Spada, Etcher of Hatred</td>\n",
       "      <td>2.21</td>\n",
       "      <td>Frichistasta59</td>\n",
       "    </tr>\n",
       "  </tbody>\n",
       "</table>\n",
       "</div>"
      ],
      "text/plain": [
       "     Age                 Gender  Item ID  \\\n",
       "0     38                   Male      165   \n",
       "1     21                   Male      119   \n",
       "7     29                 Female      169   \n",
       "16    22                 Female      123   \n",
       "177   34  Other / Non-Disclosed      155   \n",
       "209   33  Other / Non-Disclosed      157   \n",
       "\n",
       "                                     Item Name  Price              SN  \n",
       "0                  Bone Crushing Silver Skewer   3.37       Aelalis34  \n",
       "1    Stormbringer, Dark Blade of Ending Misery   2.32          Eolo46  \n",
       "7       Interrogator, Blood Blade of the Queen   3.32    Iathenudil29  \n",
       "16                           Twilight's Carver   1.14      Sundista85  \n",
       "177                  War-Forged Gold Deflector   3.73       Assassa38  \n",
       "209                    Spada, Etcher of Hatred   2.21  Frichistasta59  "
      ]
     },
     "execution_count": 332,
     "metadata": {},
     "output_type": "execute_result"
    }
   ],
   "source": [
    "# Purchase Count\n",
    "\n",
    "purchase_data_grouped = purchase_data.groupby([\"Gender\"])\n",
    "purchase_data_grouped.head(2)"
   ]
  },
  {
   "cell_type": "code",
   "execution_count": 333,
   "metadata": {
    "collapsed": false
   },
   "outputs": [
    {
     "data": {
      "text/plain": [
       "Gender\n",
       "Female                   2.815515\n",
       "Male                     2.950521\n",
       "Other / Non-Disclosed    3.249091\n",
       "Name: Price, dtype: float64"
      ]
     },
     "execution_count": 333,
     "metadata": {},
     "output_type": "execute_result"
    }
   ],
   "source": [
    "#Average Purchase Price\n",
    "purchase_by_gender_avg= purchase_data_grouped[\"Price\"].mean()\n",
    "purchase_by_gender_avg"
   ]
  },
  {
   "cell_type": "code",
   "execution_count": 334,
   "metadata": {
    "collapsed": false
   },
   "outputs": [
    {
     "data": {
      "text/plain": [
       "Gender\n",
       "Female                    382.91\n",
       "Male                     1867.68\n",
       "Other / Non-Disclosed      35.74\n",
       "Name: Price, dtype: float64"
      ]
     },
     "execution_count": 334,
     "metadata": {},
     "output_type": "execute_result"
    }
   ],
   "source": [
    "# Total Purchase Value\n",
    "purchase_by_gender= purchase_data_grouped[\"Price\"].sum()\n",
    "purchase_by_gender"
   ]
  },
  {
   "cell_type": "code",
   "execution_count": 335,
   "metadata": {
    "collapsed": false
   },
   "outputs": [
    {
     "data": {
      "text/html": [
       "<div>\n",
       "<table border=\"1\" class=\"dataframe\">\n",
       "  <thead>\n",
       "    <tr style=\"text-align: right;\">\n",
       "      <th></th>\n",
       "      <th>Average Purchase Price</th>\n",
       "      <th>Normalized Totals</th>\n",
       "      <th>Purchase count</th>\n",
       "      <th>Total Purchase Value</th>\n",
       "    </tr>\n",
       "  </thead>\n",
       "  <tbody>\n",
       "    <tr>\n",
       "      <th>Female</th>\n",
       "      <td>2.815515</td>\n",
       "      <td>2.815515</td>\n",
       "      <td>136</td>\n",
       "      <td>382.91</td>\n",
       "    </tr>\n",
       "    <tr>\n",
       "      <th>Male</th>\n",
       "      <td>2.950521</td>\n",
       "      <td>2.950521</td>\n",
       "      <td>633</td>\n",
       "      <td>1867.68</td>\n",
       "    </tr>\n",
       "    <tr>\n",
       "      <th>Other / Non-Disclosed</th>\n",
       "      <td>3.249091</td>\n",
       "      <td>3.249091</td>\n",
       "      <td>11</td>\n",
       "      <td>35.74</td>\n",
       "    </tr>\n",
       "  </tbody>\n",
       "</table>\n",
       "</div>"
      ],
      "text/plain": [
       "                       Average Purchase Price  Normalized Totals  \\\n",
       "Female                               2.815515           2.815515   \n",
       "Male                                 2.950521           2.950521   \n",
       "Other / Non-Disclosed                3.249091           3.249091   \n",
       "\n",
       "                       Purchase count  Total Purchase Value  \n",
       "Female                            136                382.91  \n",
       "Male                              633               1867.68  \n",
       "Other / Non-Disclosed              11                 35.74  "
      ]
     },
     "execution_count": 335,
     "metadata": {},
     "output_type": "execute_result"
    }
   ],
   "source": [
    "#Purchasing Analysis (Gender)\n",
    "\n",
    "summary_df = pd.DataFrame({\"Purchase count\":gender, \"Average Purchase Price\":purchase_by_gender_avg, \"Total Purchase Value\": purchase_by_gender, \"Normalized Totals\": purchase_by_gender/gender})\n",
    "summary_df"
   ]
  },
  {
   "cell_type": "code",
   "execution_count": 336,
   "metadata": {
    "collapsed": true
   },
   "outputs": [],
   "source": [
    "# Age Demographics\n",
    "\n",
    "# The below each broken into bins of 4 years (i.e. <10, 10-14, 15-19, etc.)\n",
    "# Purchase Count\n",
    "# Average Purchase Price\n",
    "# Total Purchase Value\n",
    "# Normalized Totals"
   ]
  },
  {
   "cell_type": "code",
   "execution_count": 337,
   "metadata": {
    "collapsed": false
   },
   "outputs": [],
   "source": [
    "#creating Bins and Bin Names first:\n",
    "\n",
    "bins=[0,9,14,19,24,29,34,39,50]\n",
    "group_names = [\"<10\", \"10-14\",\"15-19\",\"20-24\",\"25-29\",\"30-34\",\"35-39\",\"40+\"]"
   ]
  },
  {
   "cell_type": "code",
   "execution_count": 338,
   "metadata": {
    "collapsed": false
   },
   "outputs": [
    {
     "data": {
      "text/html": [
       "<div>\n",
       "<table border=\"1\" class=\"dataframe\">\n",
       "  <thead>\n",
       "    <tr style=\"text-align: right;\">\n",
       "      <th></th>\n",
       "      <th>Age</th>\n",
       "      <th>Gender</th>\n",
       "      <th>Item ID</th>\n",
       "      <th>Item Name</th>\n",
       "      <th>Price</th>\n",
       "      <th>SN</th>\n",
       "      <th>Age Range</th>\n",
       "    </tr>\n",
       "  </thead>\n",
       "  <tbody>\n",
       "    <tr>\n",
       "      <th>0</th>\n",
       "      <td>38</td>\n",
       "      <td>Male</td>\n",
       "      <td>165</td>\n",
       "      <td>Bone Crushing Silver Skewer</td>\n",
       "      <td>3.37</td>\n",
       "      <td>Aelalis34</td>\n",
       "      <td>35-39</td>\n",
       "    </tr>\n",
       "    <tr>\n",
       "      <th>1</th>\n",
       "      <td>21</td>\n",
       "      <td>Male</td>\n",
       "      <td>119</td>\n",
       "      <td>Stormbringer, Dark Blade of Ending Misery</td>\n",
       "      <td>2.32</td>\n",
       "      <td>Eolo46</td>\n",
       "      <td>20-24</td>\n",
       "    </tr>\n",
       "  </tbody>\n",
       "</table>\n",
       "</div>"
      ],
      "text/plain": [
       "   Age Gender  Item ID                                  Item Name  Price  \\\n",
       "0   38   Male      165                Bone Crushing Silver Skewer   3.37   \n",
       "1   21   Male      119  Stormbringer, Dark Blade of Ending Misery   2.32   \n",
       "\n",
       "          SN Age Range  \n",
       "0  Aelalis34     35-39  \n",
       "1     Eolo46     20-24  "
      ]
     },
     "execution_count": 338,
     "metadata": {},
     "output_type": "execute_result"
    }
   ],
   "source": [
    "purchase_data[\"Age Range\"]=pd.cut(purchase_data['Age'], bins, labels=group_names)\n",
    "purchase_data.head(2)"
   ]
  },
  {
   "cell_type": "code",
   "execution_count": 339,
   "metadata": {
    "collapsed": false
   },
   "outputs": [
    {
     "data": {
      "text/html": [
       "<div>\n",
       "<table border=\"1\" class=\"dataframe\">\n",
       "  <thead>\n",
       "    <tr style=\"text-align: right;\">\n",
       "      <th></th>\n",
       "      <th>Age</th>\n",
       "      <th>Gender</th>\n",
       "      <th>Item ID</th>\n",
       "      <th>Item Name</th>\n",
       "      <th>Price</th>\n",
       "      <th>SN</th>\n",
       "      <th>Age Range</th>\n",
       "    </tr>\n",
       "  </thead>\n",
       "  <tbody>\n",
       "    <tr>\n",
       "      <th>582</th>\n",
       "      <td>9</td>\n",
       "      <td>Male</td>\n",
       "      <td>26</td>\n",
       "      <td>Unholy Wand</td>\n",
       "      <td>1.88</td>\n",
       "      <td>Saralp86</td>\n",
       "      <td>&lt;10</td>\n",
       "    </tr>\n",
       "    <tr>\n",
       "      <th>289</th>\n",
       "      <td>8</td>\n",
       "      <td>Male</td>\n",
       "      <td>79</td>\n",
       "      <td>Alpha, Oath of Zeal</td>\n",
       "      <td>2.88</td>\n",
       "      <td>Iladarla40</td>\n",
       "      <td>&lt;10</td>\n",
       "    </tr>\n",
       "    <tr>\n",
       "      <th>260</th>\n",
       "      <td>9</td>\n",
       "      <td>Male</td>\n",
       "      <td>99</td>\n",
       "      <td>Expiration, Warscythe Of Lost Worlds</td>\n",
       "      <td>4.53</td>\n",
       "      <td>Undjasksya56</td>\n",
       "      <td>&lt;10</td>\n",
       "    </tr>\n",
       "    <tr>\n",
       "      <th>402</th>\n",
       "      <td>8</td>\n",
       "      <td>Male</td>\n",
       "      <td>65</td>\n",
       "      <td>Conqueror Adamantite Mace</td>\n",
       "      <td>1.96</td>\n",
       "      <td>Tyaenasti87</td>\n",
       "      <td>&lt;10</td>\n",
       "    </tr>\n",
       "    <tr>\n",
       "      <th>574</th>\n",
       "      <td>7</td>\n",
       "      <td>Male</td>\n",
       "      <td>39</td>\n",
       "      <td>Betrayal, Whisper of Grieving Widows</td>\n",
       "      <td>2.35</td>\n",
       "      <td>Eullydru35</td>\n",
       "      <td>&lt;10</td>\n",
       "    </tr>\n",
       "  </tbody>\n",
       "</table>\n",
       "</div>"
      ],
      "text/plain": [
       "     Age Gender  Item ID                             Item Name  Price  \\\n",
       "582    9   Male       26                           Unholy Wand   1.88   \n",
       "289    8   Male       79                   Alpha, Oath of Zeal   2.88   \n",
       "260    9   Male       99  Expiration, Warscythe Of Lost Worlds   4.53   \n",
       "402    8   Male       65             Conqueror Adamantite Mace   1.96   \n",
       "574    7   Male       39  Betrayal, Whisper of Grieving Widows   2.35   \n",
       "\n",
       "               SN Age Range  \n",
       "582      Saralp86       <10  \n",
       "289    Iladarla40       <10  \n",
       "260  Undjasksya56       <10  \n",
       "402   Tyaenasti87       <10  \n",
       "574    Eullydru35       <10  "
      ]
     },
     "execution_count": 339,
     "metadata": {},
     "output_type": "execute_result"
    }
   ],
   "source": [
    "purchase_data=purchase_data.sort_values(by=\"Age Range\")\n",
    "purchase_data.head()"
   ]
  },
  {
   "cell_type": "code",
   "execution_count": 340,
   "metadata": {
    "collapsed": false
   },
   "outputs": [
    {
     "data": {
      "text/html": [
       "<div>\n",
       "<table border=\"1\" class=\"dataframe\">\n",
       "  <thead>\n",
       "    <tr style=\"text-align: right;\">\n",
       "      <th></th>\n",
       "      <th>Age</th>\n",
       "      <th>Gender</th>\n",
       "      <th>Item ID</th>\n",
       "      <th>Item Name</th>\n",
       "      <th>Price</th>\n",
       "      <th>SN</th>\n",
       "      <th>Age Range</th>\n",
       "    </tr>\n",
       "  </thead>\n",
       "  <tbody>\n",
       "    <tr>\n",
       "      <th>582</th>\n",
       "      <td>9</td>\n",
       "      <td>Male</td>\n",
       "      <td>26</td>\n",
       "      <td>Unholy Wand</td>\n",
       "      <td>1.88</td>\n",
       "      <td>Saralp86</td>\n",
       "      <td>&lt;10</td>\n",
       "    </tr>\n",
       "    <tr>\n",
       "      <th>588</th>\n",
       "      <td>13</td>\n",
       "      <td>Female</td>\n",
       "      <td>26</td>\n",
       "      <td>Unholy Wand</td>\n",
       "      <td>1.88</td>\n",
       "      <td>Eoralphos86</td>\n",
       "      <td>10-14</td>\n",
       "    </tr>\n",
       "    <tr>\n",
       "      <th>321</th>\n",
       "      <td>18</td>\n",
       "      <td>Male</td>\n",
       "      <td>137</td>\n",
       "      <td>Aetherius, Boon of the Blessed</td>\n",
       "      <td>4.75</td>\n",
       "      <td>Eustyria89</td>\n",
       "      <td>15-19</td>\n",
       "    </tr>\n",
       "    <tr>\n",
       "      <th>490</th>\n",
       "      <td>23</td>\n",
       "      <td>Male</td>\n",
       "      <td>40</td>\n",
       "      <td>Second Chance</td>\n",
       "      <td>2.34</td>\n",
       "      <td>Lamil79</td>\n",
       "      <td>20-24</td>\n",
       "    </tr>\n",
       "    <tr>\n",
       "      <th>721</th>\n",
       "      <td>26</td>\n",
       "      <td>Male</td>\n",
       "      <td>39</td>\n",
       "      <td>Betrayal, Whisper of Grieving Widows</td>\n",
       "      <td>2.35</td>\n",
       "      <td>Aeduera68</td>\n",
       "      <td>25-29</td>\n",
       "    </tr>\n",
       "    <tr>\n",
       "      <th>682</th>\n",
       "      <td>30</td>\n",
       "      <td>Male</td>\n",
       "      <td>83</td>\n",
       "      <td>Lifebender</td>\n",
       "      <td>3.51</td>\n",
       "      <td>Frichaya88</td>\n",
       "      <td>30-34</td>\n",
       "    </tr>\n",
       "    <tr>\n",
       "      <th>739</th>\n",
       "      <td>35</td>\n",
       "      <td>Female</td>\n",
       "      <td>93</td>\n",
       "      <td>Apocalyptic Battlescythe</td>\n",
       "      <td>3.91</td>\n",
       "      <td>Cosadar58</td>\n",
       "      <td>35-39</td>\n",
       "    </tr>\n",
       "    <tr>\n",
       "      <th>14</th>\n",
       "      <td>40</td>\n",
       "      <td>Male</td>\n",
       "      <td>44</td>\n",
       "      <td>Bonecarvin Battle Axe</td>\n",
       "      <td>2.46</td>\n",
       "      <td>Sundast29</td>\n",
       "      <td>40+</td>\n",
       "    </tr>\n",
       "  </tbody>\n",
       "</table>\n",
       "</div>"
      ],
      "text/plain": [
       "     Age  Gender  Item ID                             Item Name  Price  \\\n",
       "582    9    Male       26                           Unholy Wand   1.88   \n",
       "588   13  Female       26                           Unholy Wand   1.88   \n",
       "321   18    Male      137        Aetherius, Boon of the Blessed   4.75   \n",
       "490   23    Male       40                         Second Chance   2.34   \n",
       "721   26    Male       39  Betrayal, Whisper of Grieving Widows   2.35   \n",
       "682   30    Male       83                            Lifebender   3.51   \n",
       "739   35  Female       93              Apocalyptic Battlescythe   3.91   \n",
       "14    40    Male       44                 Bonecarvin Battle Axe   2.46   \n",
       "\n",
       "              SN Age Range  \n",
       "582     Saralp86       <10  \n",
       "588  Eoralphos86     10-14  \n",
       "321   Eustyria89     15-19  \n",
       "490      Lamil79     20-24  \n",
       "721    Aeduera68     25-29  \n",
       "682   Frichaya88     30-34  \n",
       "739    Cosadar58     35-39  \n",
       "14     Sundast29       40+  "
      ]
     },
     "execution_count": 340,
     "metadata": {},
     "output_type": "execute_result"
    }
   ],
   "source": [
    "age_demographic=purchase_data.groupby([\"Age Range\"])\n",
    "age_demographic.head(1)"
   ]
  },
  {
   "cell_type": "code",
   "execution_count": 341,
   "metadata": {
    "collapsed": false
   },
   "outputs": [],
   "source": [
    "# age_demographic[\"Percent\"]=(age_demographic[\"Age Range\"].count()/age_demographic[\"Age Range\"].sum())*100\n",
    "# age_demographic[\"Percent\"]\n",
    "# age_demographic_summary=pd.DataFrame=({\"Percentage of Players\": age_demographic[\"Percent\"], \"Total Count\": age_demographic[\"Age Range\"]})\n",
    "# age_demographic_summary"
   ]
  },
  {
   "cell_type": "code",
   "execution_count": 342,
   "metadata": {
    "collapsed": true
   },
   "outputs": [],
   "source": [
    "# Top Spenders\n",
    "\n",
    "# Identify the top 5 spenders in the game by total purchase value, then list (in a table):\n",
    "# SN\n",
    "# Purchase Count\n",
    "# Average Purchase Price\n",
    "# Total Purchase Value"
   ]
  },
  {
   "cell_type": "code",
   "execution_count": 343,
   "metadata": {
    "collapsed": false
   },
   "outputs": [
    {
     "data": {
      "text/html": [
       "<div>\n",
       "<table border=\"1\" class=\"dataframe\">\n",
       "  <thead>\n",
       "    <tr style=\"text-align: right;\">\n",
       "      <th></th>\n",
       "      <th>Average Purchase Price</th>\n",
       "      <th>Purchase Count</th>\n",
       "      <th>Total Purchase Value</th>\n",
       "    </tr>\n",
       "    <tr>\n",
       "      <th>SN</th>\n",
       "      <th></th>\n",
       "      <th></th>\n",
       "      <th></th>\n",
       "    </tr>\n",
       "  </thead>\n",
       "  <tbody>\n",
       "    <tr>\n",
       "      <th>Undirrala66</th>\n",
       "      <td>3.412000</td>\n",
       "      <td>5</td>\n",
       "      <td>17.06</td>\n",
       "    </tr>\n",
       "    <tr>\n",
       "      <th>Saedue76</th>\n",
       "      <td>3.390000</td>\n",
       "      <td>4</td>\n",
       "      <td>13.56</td>\n",
       "    </tr>\n",
       "    <tr>\n",
       "      <th>Mindimnya67</th>\n",
       "      <td>3.185000</td>\n",
       "      <td>4</td>\n",
       "      <td>12.74</td>\n",
       "    </tr>\n",
       "    <tr>\n",
       "      <th>Haellysu29</th>\n",
       "      <td>4.243333</td>\n",
       "      <td>3</td>\n",
       "      <td>12.73</td>\n",
       "    </tr>\n",
       "    <tr>\n",
       "      <th>Eoda93</th>\n",
       "      <td>3.860000</td>\n",
       "      <td>3</td>\n",
       "      <td>11.58</td>\n",
       "    </tr>\n",
       "  </tbody>\n",
       "</table>\n",
       "</div>"
      ],
      "text/plain": [
       "             Average Purchase Price  Purchase Count  Total Purchase Value\n",
       "SN                                                                       \n",
       "Undirrala66                3.412000               5                 17.06\n",
       "Saedue76                   3.390000               4                 13.56\n",
       "Mindimnya67                3.185000               4                 12.74\n",
       "Haellysu29                 4.243333               3                 12.73\n",
       "Eoda93                     3.860000               3                 11.58"
      ]
     },
     "execution_count": 343,
     "metadata": {},
     "output_type": "execute_result"
    }
   ],
   "source": [
    "# Top_spenders = Purchase_df.groupby(['SN'])\n",
    "top_spenders = purchase_data.groupby([\"SN\"])\n",
    "top_spenders_summary = pd.DataFrame({\"Purchase Count\": top_spenders[\"Price\"].count(),\n",
    "                                    \"Average Purchase Price\": top_spenders[\"Price\"].mean(),\n",
    "                                    \"Total Purchase Value\": top_spenders[\"Price\"].sum()})\n",
    "top_spenders_summary =top_spenders_summary.sort_values(\"Total Purchase Value\", ascending=False)\n",
    "top_spenders_summary.head()\n"
   ]
  },
  {
   "cell_type": "code",
   "execution_count": 344,
   "metadata": {
    "collapsed": true
   },
   "outputs": [],
   "source": [
    "# Most Popular Items\n",
    "\n",
    "# Identify the 5 most popular items by purchase count, then list (in a table):\n",
    "# Item ID\n",
    "# Item Name\n",
    "# Purchase Count\n",
    "# Item Price\n",
    "# Total Purchase Value"
   ]
  },
  {
   "cell_type": "code",
   "execution_count": 350,
   "metadata": {
    "collapsed": false
   },
   "outputs": [
    {
     "data": {
      "text/html": [
       "<div>\n",
       "<table border=\"1\" class=\"dataframe\">\n",
       "  <thead>\n",
       "    <tr style=\"text-align: right;\">\n",
       "      <th></th>\n",
       "      <th></th>\n",
       "      <th>Item Price</th>\n",
       "      <th>Purchase Count</th>\n",
       "      <th>Total Purchase Value</th>\n",
       "    </tr>\n",
       "    <tr>\n",
       "      <th>Item ID</th>\n",
       "      <th>Item Name</th>\n",
       "      <th></th>\n",
       "      <th></th>\n",
       "      <th></th>\n",
       "    </tr>\n",
       "  </thead>\n",
       "  <tbody>\n",
       "    <tr>\n",
       "      <th>39</th>\n",
       "      <th>Betrayal, Whisper of Grieving Widows</th>\n",
       "      <td>2.35</td>\n",
       "      <td>11</td>\n",
       "      <td>25.85</td>\n",
       "    </tr>\n",
       "    <tr>\n",
       "      <th>84</th>\n",
       "      <th>Arcane Gem</th>\n",
       "      <td>2.23</td>\n",
       "      <td>11</td>\n",
       "      <td>24.53</td>\n",
       "    </tr>\n",
       "    <tr>\n",
       "      <th>31</th>\n",
       "      <th>Trickster</th>\n",
       "      <td>2.07</td>\n",
       "      <td>9</td>\n",
       "      <td>18.63</td>\n",
       "    </tr>\n",
       "    <tr>\n",
       "      <th>175</th>\n",
       "      <th>Woeful Adamantite Claymore</th>\n",
       "      <td>1.24</td>\n",
       "      <td>9</td>\n",
       "      <td>11.16</td>\n",
       "    </tr>\n",
       "    <tr>\n",
       "      <th>13</th>\n",
       "      <th>Serenity</th>\n",
       "      <td>1.49</td>\n",
       "      <td>9</td>\n",
       "      <td>13.41</td>\n",
       "    </tr>\n",
       "  </tbody>\n",
       "</table>\n",
       "</div>"
      ],
      "text/plain": [
       "                                              Item Price  Purchase Count  \\\n",
       "Item ID Item Name                                                          \n",
       "39      Betrayal, Whisper of Grieving Widows        2.35              11   \n",
       "84      Arcane Gem                                  2.23              11   \n",
       "31      Trickster                                   2.07               9   \n",
       "175     Woeful Adamantite Claymore                  1.24               9   \n",
       "13      Serenity                                    1.49               9   \n",
       "\n",
       "                                              Total Purchase Value  \n",
       "Item ID Item Name                                                   \n",
       "39      Betrayal, Whisper of Grieving Widows                 25.85  \n",
       "84      Arcane Gem                                           24.53  \n",
       "31      Trickster                                            18.63  \n",
       "175     Woeful Adamantite Claymore                           11.16  \n",
       "13      Serenity                                             13.41  "
      ]
     },
     "execution_count": 350,
     "metadata": {},
     "output_type": "execute_result"
    }
   ],
   "source": [
    "#Most Popular Items:\n",
    "popular_items = purchase_data.groupby([\"Item ID\", \"Item Name\"])\n",
    "popular_items_summary = pd.DataFrame({\n",
    "        \"Purchase Count\":popular_items[\"Price\"].count(),\n",
    "        \"Item Price\":popular_items[\"Price\"].sum()/popular_items[\"Price\"].count(),\n",
    "        \"Total Purchase Value\":popular_items[\"Price\"].sum()\n",
    "    })\n",
    "popular_items_summary = popular_items_summary.sort_values(\"Purchase Count\", ascending=False)\n",
    "popular_items_summary.head()"
   ]
  },
  {
   "cell_type": "code",
   "execution_count": 351,
   "metadata": {
    "collapsed": true
   },
   "outputs": [],
   "source": [
    "# Most Profitable Items\n",
    "\n",
    "# Identify the 5 most profitable items by total purchase value, then list (in a table):\n",
    "# Item ID\n",
    "# Item Name\n",
    "# Purchase Count\n",
    "# Item Price\n",
    "# Total Purchase Value"
   ]
  },
  {
   "cell_type": "code",
   "execution_count": 348,
   "metadata": {
    "collapsed": false
   },
   "outputs": [
    {
     "data": {
      "text/html": [
       "<div>\n",
       "<table border=\"1\" class=\"dataframe\">\n",
       "  <thead>\n",
       "    <tr style=\"text-align: right;\">\n",
       "      <th></th>\n",
       "      <th></th>\n",
       "      <th>Item Price</th>\n",
       "      <th>Purchase Count</th>\n",
       "      <th>Total Purchase Value</th>\n",
       "    </tr>\n",
       "    <tr>\n",
       "      <th>Item ID</th>\n",
       "      <th>Item Name</th>\n",
       "      <th></th>\n",
       "      <th></th>\n",
       "      <th></th>\n",
       "    </tr>\n",
       "  </thead>\n",
       "  <tbody>\n",
       "    <tr>\n",
       "      <th>34</th>\n",
       "      <th>Retribution Axe</th>\n",
       "      <td>4.14</td>\n",
       "      <td>9</td>\n",
       "      <td>37.26</td>\n",
       "    </tr>\n",
       "    <tr>\n",
       "      <th>115</th>\n",
       "      <th>Spectral Diamond Doomblade</th>\n",
       "      <td>4.25</td>\n",
       "      <td>7</td>\n",
       "      <td>29.75</td>\n",
       "    </tr>\n",
       "    <tr>\n",
       "      <th>32</th>\n",
       "      <th>Orenmir</th>\n",
       "      <td>4.95</td>\n",
       "      <td>6</td>\n",
       "      <td>29.70</td>\n",
       "    </tr>\n",
       "    <tr>\n",
       "      <th>103</th>\n",
       "      <th>Singed Scalpel</th>\n",
       "      <td>4.87</td>\n",
       "      <td>6</td>\n",
       "      <td>29.22</td>\n",
       "    </tr>\n",
       "    <tr>\n",
       "      <th>107</th>\n",
       "      <th>Splitter, Foe Of Subtlety</th>\n",
       "      <td>3.61</td>\n",
       "      <td>8</td>\n",
       "      <td>28.88</td>\n",
       "    </tr>\n",
       "  </tbody>\n",
       "</table>\n",
       "</div>"
      ],
      "text/plain": [
       "                                    Item Price  Purchase Count  \\\n",
       "Item ID Item Name                                                \n",
       "34      Retribution Axe                   4.14               9   \n",
       "115     Spectral Diamond Doomblade        4.25               7   \n",
       "32      Orenmir                           4.95               6   \n",
       "103     Singed Scalpel                    4.87               6   \n",
       "107     Splitter, Foe Of Subtlety         3.61               8   \n",
       "\n",
       "                                    Total Purchase Value  \n",
       "Item ID Item Name                                         \n",
       "34      Retribution Axe                            37.26  \n",
       "115     Spectral Diamond Doomblade                 29.75  \n",
       "32      Orenmir                                    29.70  \n",
       "103     Singed Scalpel                             29.22  \n",
       "107     Splitter, Foe Of Subtlety                  28.88  "
      ]
     },
     "execution_count": 348,
     "metadata": {},
     "output_type": "execute_result"
    }
   ],
   "source": [
    "#Most profitable Items\n",
    "profit_items = purchase_data.groupby([\"Item ID\", \"Item Name\"])\n",
    "profit_items_summary =pd.DataFrame({\n",
    "        \"Purchase Count\":popular_items[\"Price\"].count(),\n",
    "        \"Item Price\":popular_items[\"Price\"].sum()/popular_items[\"Price\"].count(),\n",
    "        \"Total Purchase Value\":popular_items[\"Price\"].sum()\n",
    "    })\n",
    "profit_items_summary = profit_items_summary.sort_values(\"Total Purchase Value\", ascending=False)\n",
    "profit_items_summary.head()"
   ]
  },
  {
   "cell_type": "code",
   "execution_count": null,
   "metadata": {
    "collapsed": true
   },
   "outputs": [],
   "source": []
  }
 ],
 "metadata": {
  "anaconda-cloud": {},
  "kernelspec": {
   "display_name": "Python [default]",
   "language": "python",
   "name": "python3"
  },
  "language_info": {
   "codemirror_mode": {
    "name": "ipython",
    "version": 3
   },
   "file_extension": ".py",
   "mimetype": "text/x-python",
   "name": "python",
   "nbconvert_exporter": "python",
   "pygments_lexer": "ipython3",
   "version": "3.5.2"
  }
 },
 "nbformat": 4,
 "nbformat_minor": 1
}
