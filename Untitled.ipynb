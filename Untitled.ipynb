{
 "cells": [
  {
   "cell_type": "code",
   "execution_count": 12,
   "metadata": {
    "collapsed": true
   },
   "outputs": [],
   "source": [
    "import os\n",
    "import pandas as pd"
   ]
  },
  {
   "cell_type": "code",
   "execution_count": 14,
   "metadata": {
    "collapsed": false
   },
   "outputs": [
    {
     "data": {
      "text/html": [
       "<div>\n",
       "<table border=\"1\" class=\"dataframe\">\n",
       "  <thead>\n",
       "    <tr style=\"text-align: right;\">\n",
       "      <th></th>\n",
       "      <th>Age</th>\n",
       "      <th>Gender</th>\n",
       "      <th>Item ID</th>\n",
       "      <th>Item Name</th>\n",
       "      <th>Price</th>\n",
       "      <th>SN</th>\n",
       "    </tr>\n",
       "  </thead>\n",
       "  <tbody>\n",
       "    <tr>\n",
       "      <th>0</th>\n",
       "      <td>38</td>\n",
       "      <td>Male</td>\n",
       "      <td>165</td>\n",
       "      <td>Bone Crushing Silver Skewer</td>\n",
       "      <td>3.37</td>\n",
       "      <td>Aelalis34</td>\n",
       "    </tr>\n",
       "    <tr>\n",
       "      <th>1</th>\n",
       "      <td>21</td>\n",
       "      <td>Male</td>\n",
       "      <td>119</td>\n",
       "      <td>Stormbringer, Dark Blade of Ending Misery</td>\n",
       "      <td>2.32</td>\n",
       "      <td>Eolo46</td>\n",
       "    </tr>\n",
       "    <tr>\n",
       "      <th>2</th>\n",
       "      <td>34</td>\n",
       "      <td>Male</td>\n",
       "      <td>174</td>\n",
       "      <td>Primitive Blade</td>\n",
       "      <td>2.46</td>\n",
       "      <td>Assastnya25</td>\n",
       "    </tr>\n",
       "    <tr>\n",
       "      <th>3</th>\n",
       "      <td>21</td>\n",
       "      <td>Male</td>\n",
       "      <td>92</td>\n",
       "      <td>Final Critic</td>\n",
       "      <td>1.36</td>\n",
       "      <td>Pheusrical25</td>\n",
       "    </tr>\n",
       "    <tr>\n",
       "      <th>4</th>\n",
       "      <td>23</td>\n",
       "      <td>Male</td>\n",
       "      <td>63</td>\n",
       "      <td>Stormfury Mace</td>\n",
       "      <td>1.27</td>\n",
       "      <td>Aela59</td>\n",
       "    </tr>\n",
       "  </tbody>\n",
       "</table>\n",
       "</div>"
      ],
      "text/plain": [
       "   Age Gender  Item ID                                  Item Name  Price  \\\n",
       "0   38   Male      165                Bone Crushing Silver Skewer   3.37   \n",
       "1   21   Male      119  Stormbringer, Dark Blade of Ending Misery   2.32   \n",
       "2   34   Male      174                            Primitive Blade   2.46   \n",
       "3   21   Male       92                               Final Critic   1.36   \n",
       "4   23   Male       63                             Stormfury Mace   1.27   \n",
       "\n",
       "             SN  \n",
       "0     Aelalis34  \n",
       "1        Eolo46  \n",
       "2   Assastnya25  \n",
       "3  Pheusrical25  \n",
       "4        Aela59  "
      ]
     },
     "execution_count": 14,
     "metadata": {},
     "output_type": "execute_result"
    }
   ],
   "source": [
    "purchase_data = pd.read_json(\"purchase_data.json\")\n",
    "purchase_data.head()"
   ]
  },
  {
   "cell_type": "code",
   "execution_count": 18,
   "metadata": {
    "collapsed": false
   },
   "outputs": [
    {
     "data": {
      "text/plain": [
       "<bound method IndexOpsMixin.unique of 0            Aelalis34\n",
       "1               Eolo46\n",
       "2          Assastnya25\n",
       "3         Pheusrical25\n",
       "4               Aela59\n",
       "5           Tanimnya91\n",
       "6          Undjaskla97\n",
       "7         Iathenudil29\n",
       "8         Sondenasta63\n",
       "9           Hilaerin92\n",
       "10          Chamosia29\n",
       "11             Sally64\n",
       "12           Iskossa88\n",
       "13     Seorithstilis90\n",
       "14           Sundast29\n",
       "15          Haellysu29\n",
       "16          Sundista85\n",
       "17           Aenarap34\n",
       "18           Iskista88\n",
       "19           Assossa43\n",
       "20             Irith83\n",
       "21         Iaralrgue74\n",
       "22            Deural48\n",
       "23          Chanosia65\n",
       "24            Qarwen67\n",
       "25              Idai61\n",
       "26       Aerithllora36\n",
       "27         Assastnya25\n",
       "28         Ilariarin45\n",
       "29           Phaedai25\n",
       "            ...       \n",
       "750           Eollym91\n",
       "751       Lisjasksda68\n",
       "752      Yalostiphos68\n",
       "753        Thryallym62\n",
       "754        Sondastan54\n",
       "755        Ailaesuir66\n",
       "756           Siasri67\n",
       "757           Seosri62\n",
       "758        Ryastycal90\n",
       "759      Chanirrasta87\n",
       "760      Aerithllora36\n",
       "761        Raeduerin33\n",
       "762        Lisosiast26\n",
       "763         Eurisuru25\n",
       "764       Assassasda84\n",
       "765      Aerithnucal56\n",
       "766        Nitherian58\n",
       "767        Hailaphos89\n",
       "768       Chamucosda93\n",
       "769     Frichilsasya78\n",
       "770           Aenasu69\n",
       "771         Lassista97\n",
       "772            Sidap51\n",
       "773      Chamadarsda63\n",
       "774       Lassassast73\n",
       "775            Eural50\n",
       "776         Lirtossa78\n",
       "777         Tillyrin30\n",
       "778         Quelaton80\n",
       "779             Alim85\n",
       "Name: SN, dtype: object>"
      ]
     },
     "execution_count": 18,
     "metadata": {},
     "output_type": "execute_result"
    }
   ],
   "source": [
    "players_names=purchase_data[\"SN\"].unique\n",
    "players_names"
   ]
  },
  {
   "cell_type": "code",
   "execution_count": null,
   "metadata": {
    "collapsed": true
   },
   "outputs": [],
   "source": []
  }
 ],
 "metadata": {
  "anaconda-cloud": {},
  "kernelspec": {
   "display_name": "Python [default]",
   "language": "python",
   "name": "python3"
  },
  "language_info": {
   "codemirror_mode": {
    "name": "ipython",
    "version": 3
   },
   "file_extension": ".py",
   "mimetype": "text/x-python",
   "name": "python",
   "nbconvert_exporter": "python",
   "pygments_lexer": "ipython3",
   "version": "3.5.2"
  }
 },
 "nbformat": 4,
 "nbformat_minor": 1
}
